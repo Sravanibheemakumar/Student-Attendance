{
 "cells": [
  {
   "cell_type": "code",
   "execution_count": 1,
   "id": "6517ae9a-2ff9-4247-9271-e99cfdac35b8",
   "metadata": {},
   "outputs": [],
   "source": [
    "import numpy as np\n",
    "import pandas as pd\n",
    "import matplotlib.pyplot as plt\n",
    "import seaborn as sns"
   ]
  },
  {
   "cell_type": "code",
   "execution_count": 2,
   "id": "3e4033cb-cd18-4cf9-8a13-e04b3ae7024b",
   "metadata": {},
   "outputs": [
    {
     "data": {
      "text/html": [
       "<div>\n",
       "<style scoped>\n",
       "    .dataframe tbody tr th:only-of-type {\n",
       "        vertical-align: middle;\n",
       "    }\n",
       "\n",
       "    .dataframe tbody tr th {\n",
       "        vertical-align: top;\n",
       "    }\n",
       "\n",
       "    .dataframe thead th {\n",
       "        text-align: right;\n",
       "    }\n",
       "</style>\n",
       "<table border=\"1\" class=\"dataframe\">\n",
       "  <thead>\n",
       "    <tr style=\"text-align: right;\">\n",
       "      <th></th>\n",
       "      <th>Student ID</th>\n",
       "      <th>Date</th>\n",
       "      <th>Subject Name</th>\n",
       "      <th>Lecturer Name</th>\n",
       "      <th>Percentage Attended</th>\n",
       "      <th>Attendance Status</th>\n",
       "    </tr>\n",
       "  </thead>\n",
       "  <tbody>\n",
       "    <tr>\n",
       "      <th>0</th>\n",
       "      <td>S1000</td>\n",
       "      <td>3/24/2024</td>\n",
       "      <td>Microprocessors</td>\n",
       "      <td>T. Gupta</td>\n",
       "      <td>99.82</td>\n",
       "      <td>Present</td>\n",
       "    </tr>\n",
       "    <tr>\n",
       "      <th>1</th>\n",
       "      <td>S1001</td>\n",
       "      <td>3/3/2024</td>\n",
       "      <td>Embedded Systems</td>\n",
       "      <td>S. Reddy</td>\n",
       "      <td>83.01</td>\n",
       "      <td>Absent</td>\n",
       "    </tr>\n",
       "    <tr>\n",
       "      <th>2</th>\n",
       "      <td>S1002</td>\n",
       "      <td>4/20/2024</td>\n",
       "      <td>Antenna and Wave Propagation</td>\n",
       "      <td>M. Das</td>\n",
       "      <td>85.21</td>\n",
       "      <td>Present</td>\n",
       "    </tr>\n",
       "    <tr>\n",
       "      <th>3</th>\n",
       "      <td>S1003</td>\n",
       "      <td>1/31/2024</td>\n",
       "      <td>Communication Systems</td>\n",
       "      <td>R. Sharma</td>\n",
       "      <td>75.84</td>\n",
       "      <td>Absent</td>\n",
       "    </tr>\n",
       "    <tr>\n",
       "      <th>4</th>\n",
       "      <td>S1004</td>\n",
       "      <td>6/21/2024</td>\n",
       "      <td>Embedded Systems</td>\n",
       "      <td>T. Gupta</td>\n",
       "      <td>62.09</td>\n",
       "      <td>Present</td>\n",
       "    </tr>\n",
       "  </tbody>\n",
       "</table>\n",
       "</div>"
      ],
      "text/plain": [
       "  Student ID       Date                  Subject Name Lecturer Name  \\\n",
       "0      S1000  3/24/2024               Microprocessors      T. Gupta   \n",
       "1      S1001   3/3/2024              Embedded Systems      S. Reddy   \n",
       "2      S1002  4/20/2024  Antenna and Wave Propagation        M. Das   \n",
       "3      S1003  1/31/2024         Communication Systems     R. Sharma   \n",
       "4      S1004  6/21/2024              Embedded Systems      T. Gupta   \n",
       "\n",
       "   Percentage Attended Attendance Status  \n",
       "0                99.82           Present  \n",
       "1                83.01            Absent  \n",
       "2                85.21           Present  \n",
       "3                75.84            Absent  \n",
       "4                62.09           Present  "
      ]
     },
     "execution_count": 2,
     "metadata": {},
     "output_type": "execute_result"
    }
   ],
   "source": [
    "df = pd.read_csv(r'C:\\Users\\MYPC\\Downloads\\ece_student_attendance_dataset1.csv')\n",
    "df.head()"
   ]
  },
  {
   "cell_type": "code",
   "execution_count": 3,
   "id": "4ac52c1a-231d-47c5-b9e4-bc4008612f90",
   "metadata": {},
   "outputs": [
    {
     "name": "stdout",
     "output_type": "stream",
     "text": [
      "<class 'pandas.core.frame.DataFrame'>\n",
      "RangeIndex: 1000 entries, 0 to 999\n",
      "Data columns (total 6 columns):\n",
      " #   Column               Non-Null Count  Dtype  \n",
      "---  ------               --------------  -----  \n",
      " 0   Student ID           1000 non-null   object \n",
      " 1   Date                 1000 non-null   object \n",
      " 2   Subject Name         1000 non-null   object \n",
      " 3   Lecturer Name        1000 non-null   object \n",
      " 4   Percentage Attended  1000 non-null   float64\n",
      " 5   Attendance Status    1000 non-null   object \n",
      "dtypes: float64(1), object(5)\n",
      "memory usage: 47.0+ KB\n"
     ]
    }
   ],
   "source": [
    "df.info()"
   ]
  },
  {
   "cell_type": "code",
   "execution_count": 4,
   "id": "3939fa59-0799-41ae-89da-a94e7baa5130",
   "metadata": {},
   "outputs": [
    {
     "data": {
      "text/plain": [
       "Student ID             0\n",
       "Date                   0\n",
       "Subject Name           0\n",
       "Lecturer Name          0\n",
       "Percentage Attended    0\n",
       "Attendance Status      0\n",
       "dtype: int64"
      ]
     },
     "execution_count": 4,
     "metadata": {},
     "output_type": "execute_result"
    }
   ],
   "source": [
    "df.isna().sum()"
   ]
  },
  {
   "cell_type": "code",
   "execution_count": 5,
   "id": "e0caa4f1-15d3-44d0-b17d-97e42066de7c",
   "metadata": {},
   "outputs": [
    {
     "data": {
      "text/plain": [
       "0"
      ]
     },
     "execution_count": 5,
     "metadata": {},
     "output_type": "execute_result"
    }
   ],
   "source": [
    "df.duplicated().sum()"
   ]
  },
  {
   "cell_type": "code",
   "execution_count": 6,
   "id": "2e76c8c5-3370-4805-ae88-d359549f9cda",
   "metadata": {},
   "outputs": [
    {
     "data": {
      "text/html": [
       "<div>\n",
       "<style scoped>\n",
       "    .dataframe tbody tr th:only-of-type {\n",
       "        vertical-align: middle;\n",
       "    }\n",
       "\n",
       "    .dataframe tbody tr th {\n",
       "        vertical-align: top;\n",
       "    }\n",
       "\n",
       "    .dataframe thead th {\n",
       "        text-align: right;\n",
       "    }\n",
       "</style>\n",
       "<table border=\"1\" class=\"dataframe\">\n",
       "  <thead>\n",
       "    <tr style=\"text-align: right;\">\n",
       "      <th></th>\n",
       "      <th>Percentage Attended</th>\n",
       "    </tr>\n",
       "  </thead>\n",
       "  <tbody>\n",
       "    <tr>\n",
       "      <th>count</th>\n",
       "      <td>1000.00000</td>\n",
       "    </tr>\n",
       "    <tr>\n",
       "      <th>mean</th>\n",
       "      <td>68.90329</td>\n",
       "    </tr>\n",
       "    <tr>\n",
       "      <th>std</th>\n",
       "      <td>17.32297</td>\n",
       "    </tr>\n",
       "    <tr>\n",
       "      <th>min</th>\n",
       "      <td>40.05000</td>\n",
       "    </tr>\n",
       "    <tr>\n",
       "      <th>25%</th>\n",
       "      <td>53.23750</td>\n",
       "    </tr>\n",
       "    <tr>\n",
       "      <th>50%</th>\n",
       "      <td>68.47500</td>\n",
       "    </tr>\n",
       "    <tr>\n",
       "      <th>75%</th>\n",
       "      <td>84.11500</td>\n",
       "    </tr>\n",
       "    <tr>\n",
       "      <th>max</th>\n",
       "      <td>99.91000</td>\n",
       "    </tr>\n",
       "  </tbody>\n",
       "</table>\n",
       "</div>"
      ],
      "text/plain": [
       "       Percentage Attended\n",
       "count           1000.00000\n",
       "mean              68.90329\n",
       "std               17.32297\n",
       "min               40.05000\n",
       "25%               53.23750\n",
       "50%               68.47500\n",
       "75%               84.11500\n",
       "max               99.91000"
      ]
     },
     "execution_count": 6,
     "metadata": {},
     "output_type": "execute_result"
    }
   ],
   "source": [
    "df.describe()"
   ]
  },
  {
   "cell_type": "code",
   "execution_count": 7,
   "id": "966b1aea-2cf3-41e9-9730-b265c525ce12",
   "metadata": {},
   "outputs": [
    {
     "data": {
      "image/png": "[encoded data removed]",
      "text/plain": [
       "<Figure size 1000x500 with 1 Axes>"
      ]
     },
     "metadata": {},
     "output_type": "display_data"
    }
   ],
   "source": [
    "plt.figure(figsize=(10,5))\n",
    "sns.countplot(data=df,x='Attendance Status',hue ='Subject Name', palette='dark:Blue')\n",
    "plt.show()"
   ]
  },
  {
   "cell_type": "code",
   "execution_count": 8,
   "id": "ed545bf4-2516-4971-8883-ab9358306c41",
   "metadata": {},
   "outputs": [
    {
     "data": {
      "image/png": "[encoded data removed]",
      "text/plain": [
       "<Figure size 300x300 with 1 Axes>"
      ]
     },
     "metadata": {},
     "output_type": "display_data"
    }
   ],
   "source": [
    "# Count attendance status\n",
    "attendance_counts = df['Attendance Status'].value_counts()\n",
    "\n",
    "# Plot pie chart\n",
    "plt.figure(figsize=(3,3))\n",
    "plt.pie(attendance_counts, labels=attendance_counts.index, autopct='%1.1f%%', \n",
    "        colors=plt.cm.Blues([0.5, 0.8]), startangle=140)\n",
    "plt.title(\"Overall Attendance Status\")\n",
    "plt.axis('equal')  # Equal aspect ratio to ensure pie is a circle\n",
    "plt.show()\n"
   ]
  },
  {
   "cell_type": "code",
   "execution_count": 9,
   "id": "55c0b876-c608-4de8-b6bc-9673d2b4c58c",
   "metadata": {},
   "outputs": [],
   "source": [
    "df['Date'] = pd.to_datetime(df['Date'])"
   ]
  },
  {
   "cell_type": "code",
   "execution_count": 10,
   "id": "3dfaef86-65c2-4fb3-9a26-75096bbbeae1",
   "metadata": {
    "scrolled": true
   },
   "outputs": [],
   "source": [
    "df['Year'] = df['Date'].dt.year\n",
    "df['Month'] = df['Date'].dt.month\n",
    "df['Day'] = df['Date'].dt.day"
   ]
  },
  {
   "cell_type": "code",
   "execution_count": 11,
   "id": "740cecb8-0b70-4e5b-8349-7b662f50e3d5",
   "metadata": {},
   "outputs": [
    {
     "data": {
      "text/html": [
       "<div>\n",
       "<style scoped>\n",
       "    .dataframe tbody tr th:only-of-type {\n",
       "        vertical-align: middle;\n",
       "    }\n",
       "\n",
       "    .dataframe tbody tr th {\n",
       "        vertical-align: top;\n",
       "    }\n",
       "\n",
       "    .dataframe thead th {\n",
       "        text-align: right;\n",
       "    }\n",
       "</style>\n",
       "<table border=\"1\" class=\"dataframe\">\n",
       "  <thead>\n",
       "    <tr style=\"text-align: right;\">\n",
       "      <th></th>\n",
       "      <th>Student ID</th>\n",
       "      <th>Date</th>\n",
       "      <th>Subject Name</th>\n",
       "      <th>Lecturer Name</th>\n",
       "      <th>Percentage Attended</th>\n",
       "      <th>Attendance Status</th>\n",
       "      <th>Year</th>\n",
       "      <th>Month</th>\n",
       "      <th>Day</th>\n",
       "    </tr>\n",
       "  </thead>\n",
       "  <tbody>\n",
       "    <tr>\n",
       "      <th>0</th>\n",
       "      <td>S1000</td>\n",
       "      <td>2024-03-24</td>\n",
       "      <td>Microprocessors</td>\n",
       "      <td>T. Gupta</td>\n",
       "      <td>99.82</td>\n",
       "      <td>Present</td>\n",
       "      <td>2024</td>\n",
       "      <td>3</td>\n",
       "      <td>24</td>\n",
       "    </tr>\n",
       "    <tr>\n",
       "      <th>1</th>\n",
       "      <td>S1001</td>\n",
       "      <td>2024-03-03</td>\n",
       "      <td>Embedded Systems</td>\n",
       "      <td>S. Reddy</td>\n",
       "      <td>83.01</td>\n",
       "      <td>Absent</td>\n",
       "      <td>2024</td>\n",
       "      <td>3</td>\n",
       "      <td>3</td>\n",
       "    </tr>\n",
       "    <tr>\n",
       "      <th>2</th>\n",
       "      <td>S1002</td>\n",
       "      <td>2024-04-20</td>\n",
       "      <td>Antenna and Wave Propagation</td>\n",
       "      <td>M. Das</td>\n",
       "      <td>85.21</td>\n",
       "      <td>Present</td>\n",
       "      <td>2024</td>\n",
       "      <td>4</td>\n",
       "      <td>20</td>\n",
       "    </tr>\n",
       "    <tr>\n",
       "      <th>3</th>\n",
       "      <td>S1003</td>\n",
       "      <td>2024-01-31</td>\n",
       "      <td>Communication Systems</td>\n",
       "      <td>R. Sharma</td>\n",
       "      <td>75.84</td>\n",
       "      <td>Absent</td>\n",
       "      <td>2024</td>\n",
       "      <td>1</td>\n",
       "      <td>31</td>\n",
       "    </tr>\n",
       "    <tr>\n",
       "      <th>4</th>\n",
       "      <td>S1004</td>\n",
       "      <td>2024-06-21</td>\n",
       "      <td>Embedded Systems</td>\n",
       "      <td>T. Gupta</td>\n",
       "      <td>62.09</td>\n",
       "      <td>Present</td>\n",
       "      <td>2024</td>\n",
       "      <td>6</td>\n",
       "      <td>21</td>\n",
       "    </tr>\n",
       "  </tbody>\n",
       "</table>\n",
       "</div>"
      ],
      "text/plain": [
       "  Student ID       Date                  Subject Name Lecturer Name  \\\n",
       "0      S1000 2024-03-24               Microprocessors      T. Gupta   \n",
       "1      S1001 2024-03-03              Embedded Systems      S. Reddy   \n",
       "2      S1002 2024-04-20  Antenna and Wave Propagation        M. Das   \n",
       "3      S1003 2024-01-31         Communication Systems     R. Sharma   \n",
       "4      S1004 2024-06-21              Embedded Systems      T. Gupta   \n",
       "\n",
       "   Percentage Attended Attendance Status  Year  Month  Day  \n",
       "0                99.82           Present  2024      3   24  \n",
       "1                83.01            Absent  2024      3    3  \n",
       "2                85.21           Present  2024      4   20  \n",
       "3                75.84            Absent  2024      1   31  \n",
       "4                62.09           Present  2024      6   21  "
      ]
     },
     "execution_count": 11,
     "metadata": {},
     "output_type": "execute_result"
    }
   ],
   "source": [
    "df.head()"
   ]
  },
  {
   "cell_type": "code",
   "execution_count": 12,
   "id": "8c248f9b-954c-4541-907a-903913944843",
   "metadata": {},
   "outputs": [],
   "source": [
    "df.drop(columns=['Student ID','Date'],axis=1,inplace=True)"
   ]
  },
  {
   "cell_type": "code",
   "execution_count": 13,
   "id": "bde449a2-14c1-4e9c-bba6-fa3fc068e154",
   "metadata": {},
   "outputs": [
    {
     "data": {
      "text/plain": [
       "Year\n",
       "2024    1000\n",
       "Name: count, dtype: int64"
      ]
     },
     "execution_count": 13,
     "metadata": {},
     "output_type": "execute_result"
    }
   ],
   "source": [
    "df['Year'].value_counts() ## from this observation we can drop the year column"
   ]
  },
  {
   "cell_type": "code",
   "execution_count": 14,
   "id": "898f4ae8-b88f-49ea-b032-c126e2a0a72a",
   "metadata": {},
   "outputs": [],
   "source": [
    "df.drop('Year',axis=1,inplace =True)"
   ]
  },
  {
   "cell_type": "code",
   "execution_count": 15,
   "id": "458791ef-a8c6-46cc-906f-86287dadc0d9",
   "metadata": {},
   "outputs": [
    {
     "data": {
      "text/plain": [
       "((1000, 5), (1000,))"
      ]
     },
     "execution_count": 15,
     "metadata": {},
     "output_type": "execute_result"
    }
   ],
   "source": [
    "x=df.drop('Attendance Status',axis=1)\n",
    "y=df['Attendance Status']\n",
    "x.shape,y.shape"
   ]
  },
  {
   "cell_type": "code",
   "execution_count": 22,
   "id": "e34a58e7-a19f-4e4b-98ec-5b477a31497b",
   "metadata": {},
   "outputs": [],
   "source": [
    "from sklearn.preprocessing import LabelEncoder\n",
    "\n",
    "le = LabelEncoder()\n",
    "df['Attendence Status Encoded'] = le.fit_transform(y)"
   ]
  },
  {
   "cell_type": "code",
   "execution_count": 18,
   "id": "a92c1861-fbe2-4243-be01-2e0eb2699d6c",
   "metadata": {},
   "outputs": [],
   "source": [
    "x = pd.get_dummies(x, columns=['Subject Name', 'Lecturer Name'], drop_first=True)"
   ]
  },
  {
   "cell_type": "code",
   "execution_count": 19,
   "id": "c93eaee7-4545-4e54-8d3e-d1b26462be6d",
   "metadata": {},
   "outputs": [],
   "source": [
    "# df.drop(columns=['Subject Name','Lecturer Name','Attendance Status'],axis=1,inplace=True)"
   ]
  },
  {
   "cell_type": "code",
   "execution_count": 20,
   "id": "8aec1f31-efce-4d64-a9f7-d4e03e1ddeda",
   "metadata": {},
   "outputs": [
    {
     "data": {
      "text/plain": [
       "(1000, 19)"
      ]
     },
     "execution_count": 20,
     "metadata": {},
     "output_type": "execute_result"
    }
   ],
   "source": [
    "from sklearn.preprocessing import StandardScaler\n",
    "\n",
    "scaler = StandardScaler()\n",
    "x_scaled = scaler.fit_transform(x)\n",
    "x_scaled.shape"
   ]
  },
  {
   "cell_type": "code",
   "execution_count": 21,
   "id": "e2225db9-5a90-489f-85cd-3843c80cd9f9",
   "metadata": {},
   "outputs": [
    {
     "data": {
      "text/html": [
       "<div>\n",
       "<style scoped>\n",
       "    .dataframe tbody tr th:only-of-type {\n",
       "        vertical-align: middle;\n",
       "    }\n",
       "\n",
       "    .dataframe tbody tr th {\n",
       "        vertical-align: top;\n",
       "    }\n",
       "\n",
       "    .dataframe thead th {\n",
       "        text-align: right;\n",
       "    }\n",
       "</style>\n",
       "<table border=\"1\" class=\"dataframe\">\n",
       "  <thead>\n",
       "    <tr style=\"text-align: right;\">\n",
       "      <th></th>\n",
       "      <th>Percentage Attended</th>\n",
       "      <th>Month</th>\n",
       "      <th>Day</th>\n",
       "      <th>Subject Name_Antenna and Wave Propagation</th>\n",
       "      <th>Subject Name_Communication Systems</th>\n",
       "      <th>Subject Name_Control Systems</th>\n",
       "      <th>Subject Name_Digital Electronics</th>\n",
       "      <th>Subject Name_Electromagnetic Theory</th>\n",
       "      <th>Subject Name_Embedded Systems</th>\n",
       "      <th>Subject Name_Microprocessors</th>\n",
       "      <th>Subject Name_Signal Processing</th>\n",
       "      <th>Subject Name_VLSI Design</th>\n",
       "      <th>Lecturer Name_L. Kumar</th>\n",
       "      <th>Lecturer Name_M. Das</th>\n",
       "      <th>Lecturer Name_N. Rao</th>\n",
       "      <th>Lecturer Name_R. Sharma</th>\n",
       "      <th>Lecturer Name_S. Reddy</th>\n",
       "      <th>Lecturer Name_T. Gupta</th>\n",
       "      <th>Lecturer Name_V. Iyer</th>\n",
       "    </tr>\n",
       "  </thead>\n",
       "  <tbody>\n",
       "    <tr>\n",
       "      <th>0</th>\n",
       "      <td>99.82</td>\n",
       "      <td>3</td>\n",
       "      <td>24</td>\n",
       "      <td>False</td>\n",
       "      <td>False</td>\n",
       "      <td>False</td>\n",
       "      <td>False</td>\n",
       "      <td>False</td>\n",
       "      <td>False</td>\n",
       "      <td>True</td>\n",
       "      <td>False</td>\n",
       "      <td>False</td>\n",
       "      <td>False</td>\n",
       "      <td>False</td>\n",
       "      <td>False</td>\n",
       "      <td>False</td>\n",
       "      <td>False</td>\n",
       "      <td>True</td>\n",
       "      <td>False</td>\n",
       "    </tr>\n",
       "    <tr>\n",
       "      <th>1</th>\n",
       "      <td>83.01</td>\n",
       "      <td>3</td>\n",
       "      <td>3</td>\n",
       "      <td>False</td>\n",
       "      <td>False</td>\n",
       "      <td>False</td>\n",
       "      <td>False</td>\n",
       "      <td>False</td>\n",
       "      <td>True</td>\n",
       "      <td>False</td>\n",
       "      <td>False</td>\n",
       "      <td>False</td>\n",
       "      <td>False</td>\n",
       "      <td>False</td>\n",
       "      <td>False</td>\n",
       "      <td>False</td>\n",
       "      <td>True</td>\n",
       "      <td>False</td>\n",
       "      <td>False</td>\n",
       "    </tr>\n",
       "    <tr>\n",
       "      <th>2</th>\n",
       "      <td>85.21</td>\n",
       "      <td>4</td>\n",
       "      <td>20</td>\n",
       "      <td>True</td>\n",
       "      <td>False</td>\n",
       "      <td>False</td>\n",
       "      <td>False</td>\n",
       "      <td>False</td>\n",
       "      <td>False</td>\n",
       "      <td>False</td>\n",
       "      <td>False</td>\n",
       "      <td>False</td>\n",
       "      <td>False</td>\n",
       "      <td>True</td>\n",
       "      <td>False</td>\n",
       "      <td>False</td>\n",
       "      <td>False</td>\n",
       "      <td>False</td>\n",
       "      <td>False</td>\n",
       "    </tr>\n",
       "    <tr>\n",
       "      <th>3</th>\n",
       "      <td>75.84</td>\n",
       "      <td>1</td>\n",
       "      <td>31</td>\n",
       "      <td>False</td>\n",
       "      <td>True</td>\n",
       "      <td>False</td>\n",
       "      <td>False</td>\n",
       "      <td>False</td>\n",
       "      <td>False</td>\n",
       "      <td>False</td>\n",
       "      <td>False</td>\n",
       "      <td>False</td>\n",
       "      <td>False</td>\n",
       "      <td>False</td>\n",
       "      <td>False</td>\n",
       "      <td>True</td>\n",
       "      <td>False</td>\n",
       "      <td>False</td>\n",
       "      <td>False</td>\n",
       "    </tr>\n",
       "    <tr>\n",
       "      <th>4</th>\n",
       "      <td>62.09</td>\n",
       "      <td>6</td>\n",
       "      <td>21</td>\n",
       "      <td>False</td>\n",
       "      <td>False</td>\n",
       "      <td>False</td>\n",
       "      <td>False</td>\n",
       "      <td>False</td>\n",
       "      <td>True</td>\n",
       "      <td>False</td>\n",
       "      <td>False</td>\n",
       "      <td>False</td>\n",
       "      <td>False</td>\n",
       "      <td>False</td>\n",
       "      <td>False</td>\n",
       "      <td>False</td>\n",
       "      <td>False</td>\n",
       "      <td>True</td>\n",
       "      <td>False</td>\n",
       "    </tr>\n",
       "  </tbody>\n",
       "</table>\n",
       "</div>"
      ],
      "text/plain": [
       "   Percentage Attended  Month  Day  Subject Name_Antenna and Wave Propagation  \\\n",
       "0                99.82      3   24                                      False   \n",
       "1                83.01      3    3                                      False   \n",
       "2                85.21      4   20                                       True   \n",
       "3                75.84      1   31                                      False   \n",
       "4                62.09      6   21                                      False   \n",
       "\n",
       "   Subject Name_Communication Systems  Subject Name_Control Systems  \\\n",
       "0                               False                         False   \n",
       "1                               False                         False   \n",
       "2                               False                         False   \n",
       "3                                True                         False   \n",
       "4                               False                         False   \n",
       "\n",
       "   Subject Name_Digital Electronics  Subject Name_Electromagnetic Theory  \\\n",
       "0                             False                                False   \n",
       "1                             False                                False   \n",
       "2                             False                                False   \n",
       "3                             False                                False   \n",
       "4                             False                                False   \n",
       "\n",
       "   Subject Name_Embedded Systems  Subject Name_Microprocessors  \\\n",
       "0                          False                          True   \n",
       "1                           True                         False   \n",
       "2                          False                         False   \n",
       "3                          False                         False   \n",
       "4                           True                         False   \n",
       "\n",
       "   Subject Name_Signal Processing  Subject Name_VLSI Design  \\\n",
       "0                           False                     False   \n",
       "1                           False                     False   \n",
       "2                           False                     False   \n",
       "3                           False                     False   \n",
       "4                           False                     False   \n",
       "\n",
       "   Lecturer Name_L. Kumar  Lecturer Name_M. Das  Lecturer Name_N. Rao  \\\n",
       "0                   False                 False                 False   \n",
       "1                   False                 False                 False   \n",
       "2                   False                  True                 False   \n",
       "3                   False                 False                 False   \n",
       "4                   False                 False                 False   \n",
       "\n",
       "   Lecturer Name_R. Sharma  Lecturer Name_S. Reddy  Lecturer Name_T. Gupta  \\\n",
       "0                    False                   False                    True   \n",
       "1                    False                    True                   False   \n",
       "2                    False                   False                   False   \n",
       "3                     True                   False                   False   \n",
       "4                    False                   False                    True   \n",
       "\n",
       "   Lecturer Name_V. Iyer  \n",
       "0                  False  \n",
       "1                  False  \n",
       "2                  False  \n",
       "3                  False  \n",
       "4                  False  "
      ]
     },
     "execution_count": 21,
     "metadata": {},
     "output_type": "execute_result"
    }
   ],
   "source": [
    "x.head()"
   ]
  },
  {
   "cell_type": "code",
   "execution_count": 55,
   "id": "3c6ae7f9-46d8-4fc3-8a4f-8a1bdf162e5e",
   "metadata": {},
   "outputs": [],
   "source": [
    "from sklearn.model_selection import train_test_split\n",
    "x_train,x_test,y_train,y_test = train_test_split(x_scaled,y,test_size=0.3,random_state=1)"
   ]
  },
  {
   "cell_type": "code",
   "execution_count": 56,
   "id": "c865922b-52c4-4977-8ae0-a4ff1f3d5cb4",
   "metadata": {},
   "outputs": [
    {
     "data": {
      "text/plain": [
       "((700, 19), (300, 19), (700,), (300,))"
      ]
     },
     "execution_count": 56,
     "metadata": {},
     "output_type": "execute_result"
    }
   ],
   "source": [
    "x_train.shape,x_test.shape,y_train.shape,y_test.shape"
   ]
  },
  {
   "cell_type": "code",
   "execution_count": 65,
   "id": "b282b768-73fd-4230-9117-b3a4a1814ce0",
   "metadata": {},
   "outputs": [],
   "source": [
    "from sklearn.metrics import accuracy_score, confusion_matrix, classification_report"
   ]
  },
  {
   "cell_type": "code",
   "execution_count": 66,
   "id": "c2011038-f639-4f24-9b28-5579b7aebb3f",
   "metadata": {},
   "outputs": [
    {
     "name": "stdout",
     "output_type": "stream",
     "text": [
      "Accuracy: 0.8471428571428572\n",
      "Confusion Matrix:\n",
      "[[340  47]\n",
      " [ 60 253]]\n",
      "Classification Report:\n",
      "              precision    recall  f1-score   support\n",
      "\n",
      "      Absent       0.85      0.88      0.86       387\n",
      "     Present       0.84      0.81      0.83       313\n",
      "\n",
      "    accuracy                           0.85       700\n",
      "   macro avg       0.85      0.84      0.84       700\n",
      "weighted avg       0.85      0.85      0.85       700\n",
      "\n"
     ]
    }
   ],
   "source": [
    "print(f\"Accuracy: {train_accuracy}\")\n",
    "print(\"Confusion Matrix:\")\n",
    "print(train_conf_matrix)\n",
    "print(\"Classification Report:\")\n",
    "print(train_class_report)"
   ]
  },
  {
   "cell_type": "code",
   "execution_count": 61,
   "id": "85c2467f-ddc1-4e9e-ad73-cad464b988de",
   "metadata": {},
   "outputs": [
    {
     "name": "stdout",
     "output_type": "stream",
     "text": [
      "Accuracy: 0.7766666666666666\n",
      "Confusion Matrix:\n",
      " [[136  29]\n",
      " [ 38  97]]\n",
      "Classification Report:\n",
      "               precision    recall  f1-score   support\n",
      "\n",
      "      Absent       0.78      0.82      0.80       165\n",
      "     Present       0.77      0.72      0.74       135\n",
      "\n",
      "    accuracy                           0.78       300\n",
      "   macro avg       0.78      0.77      0.77       300\n",
      "weighted avg       0.78      0.78      0.78       300\n",
      "\n"
     ]
    }
   ],
   "source": [
    "from sklearn.linear_model import LogisticRegression\n",
    "\n",
    "model = LogisticRegression()\n",
    "model.fit(x_train, y_train)\n",
    "\n",
    "# 6. Predict and evaluate\n",
    "y_pred = model.predict(x_test)\n",
    "\n",
    "print(\"Accuracy:\", accuracy_score(y_test, y_pred))\n",
    "print(\"Confusion Matrix:\\n\", confusion_matrix(y_test, y_pred))\n",
    "print(\"Classification Report:\\n\", classification_report(y_test, y_pred))"
   ]
  },
  {
   "cell_type": "code",
   "execution_count": null,
   "id": "f7dd2b7c-a47e-4f0d-bb5f-b5817f461315",
   "metadata": {},
   "outputs": [],
   "source": []
  }
 ],
 "metadata": {
  "kernelspec": {
   "display_name": "Python 3 (ipykernel)",
   "language": "python",
   "name": "python3"
  },
  "language_info": {
   "codemirror_mode": {
    "name": "ipython",
    "version": 3
   },
   "file_extension": ".py",
   "mimetype": "text/x-python",
   "name": "python",
   "nbconvert_exporter": "python",
   "pygments_lexer": "ipython3",
   "version": "3.12.7"
  }
 },
 "nbformat": 4,
 "nbformat_minor": 5
}
